{
  "description": null,
  "sessionProperties": {
    "driverMemory": "28g",
    "driverCores": 4,
    "executorMemory": "28g",
    "executorCores": 4,
    "numExecutors": 2
  },
  "metadata": {
    "kernelspec": {
      "name": "synapse_pyspark",
      "display_name": "Synapse PySpark"
    },
    "language_info": {
      "name": "python",
      "codemirror_mode": null
    },
    "a365ComputeOptions": {
      "id": "/subscriptions/3b7c1863-67f8-46a6-a73d-5ad967f0bc67/resourceGroups/au/providers/Microsoft.Synapse/workspaces/synapse20220621/bigDataPools/minsparkpool",
      "name": "minsparkpool",
      "type": "Spark",
      "endpoint": "https://synapse20220621.dev.azuresynapse.net/livyApi/versions/2019-11-01-preview/sparkPools/minsparkpool",
      "auth": {
        "type": "AAD",
        "authResource": "https://dev.azuresynapse.net"
      },
      "sparkVersion": "3.1",
      "nodeCount": 10,
      "cores": 4,
      "memory": 28,
      "extraHeader": null
    },
    "sessionKeepAliveTimeout": 30,
    "saveOutput": true,
    "synapse_widget": {
      "version": "0.1",
      "state": {
        "036d5989-fa49-46f9-9cb2-d51a45aa886d": {
          "type": "Synapse.DataFrame",
          "sync_state": {
            "table": {
              "rows": [
                {
                  "0": "1984",
                  "1": "2022-06-20T13:08:32",
                  "2": "43.25202560424805",
                  "3": "0",
                  "4": "29.18109893798828",
                  "5": "0"
                },
                {
                  "0": "1984",
                  "1": "2022-06-20T13:08:34",
                  "2": "43.17691421508789",
                  "3": "40.681251525878906",
                  "4": "29.111263275146484",
                  "5": "1009.76220703125"
                },
                {
                  "0": "1984",
                  "1": "2022-06-20T13:08:36",
                  "2": "43.21446990966797",
                  "3": "40.68333435058594",
                  "4": "28.743040084838867",
                  "5": "1009.727294921875"
                },
                {
                  "0": "1984",
                  "1": "2022-06-20T13:08:38",
                  "2": "43.34591293334961",
                  "3": "40.69583511352539",
                  "4": "28.96841812133789",
                  "5": "1009.722412109375"
                },
                {
                  "0": "1984",
                  "1": "2022-06-20T13:08:40",
                  "2": "43.25202560424805",
                  "3": "40.69791793823242",
                  "4": "28.889060974121094",
                  "5": "1009.74365234375"
                },
                {
                  "0": "1984",
                  "1": "2022-06-20T13:08:42",
                  "2": "43.38346862792969",
                  "3": "40.70833206176758",
                  "4": "29.054126739501953",
                  "5": "1009.758544921875"
                },
                {
                  "0": "1984",
                  "1": "2022-06-20T13:08:44",
                  "2": "43.25202560424805",
                  "3": "40.712501525878906",
                  "4": "28.946197509765625",
                  "5": "1009.75732421875"
                },
                {
                  "0": "1984",
                  "1": "2022-06-20T13:08:46",
                  "2": "43.27080535888672",
                  "3": "40.72708511352539",
                  "4": "28.568450927734375",
                  "5": "1009.75341796875"
                },
                {
                  "0": "1984",
                  "1": "2022-06-20T13:08:48",
                  "2": "43.402244567871094",
                  "3": "40.733333587646484",
                  "4": "28.91762924194336",
                  "5": "1009.755615234375"
                },
                {
                  "0": "1984",
                  "1": "2022-06-20T13:08:50",
                  "2": "43.27080535888672",
                  "3": "40.733333587646484",
                  "4": "29.111263275146484",
                  "5": "1009.7666015625"
                }
              ],
              "schema": [
                {
                  "key": "0",
                  "name": "sensorid",
                  "type": "string"
                },
                {
                  "key": "1",
                  "name": "timestamp",
                  "type": "string"
                },
                {
                  "key": "2",
                  "name": "temperature_from_humidity",
                  "type": "string"
                },
                {
                  "key": "3",
                  "name": "temperature_from_pressure",
                  "type": "string"
                },
                {
                  "key": "4",
                  "name": "humidity",
                  "type": "string"
                },
                {
                  "key": "5",
                  "name": "pressure",
                  "type": "string"
                }
              ],
              "truncated": false
            },
            "isSummary": false,
            "language": "scala"
          },
          "persist_state": {
            "view": {
              "type": "details",
              "tableOptions": {},
              "chartOptions": {
                "chartType": "bar",
                "aggregationType": "count",
                "categoryFieldKeys": [
                  "0"
                ],
                "seriesFieldKeys": [
                  "0"
                ],
                "isStacked": false
              }
            }
          }
        },
        "fc27f15d-4360-4847-b72d-bbdae428160f": {
          "type": "Synapse.DataFrame",
          "sync_state": {
            "table": {
              "rows": [
                {
                  "0": {
                    "city": "Korsbæk",
                    "county": "Sjælland",
                    "state": "DK",
                    "streetname": "Algade"
                  },
                  "1": [
                    {
                      "firstName": "Ulrik",
                      "gender": "male",
                      "grade": 5
                    },
                    {
                      "firstName": "Regitze",
                      "gender": "female",
                      "grade": 3,
                      "pets": [
                        {
                          "givenName": "Vaks",
                          "race": "gadekryds",
                          "type": "hund"
                        }
                      ]
                    }
                  ],
                  "2": "20210107",
                  "3": "Varnæsfamilien",
                  "4": "true",
                  "5": "Varnæs",
                  "6": [
                    {
                      "actor": "Holger Juul Hansen",
                      "firstName": "Hans Christian",
                      "gender": "male"
                    },
                    {
                      "actor": "Malene Schwartz",
                      "firstName": "Maude",
                      "gender": "female"
                    }
                  ]
                },
                {
                  "0": {
                    "city": "Korsbæk",
                    "county": "Sjælland",
                    "state": "DK",
                    "streetname": "Algade"
                  },
                  "1": [
                    {
                      "firstName": "Ellen",
                      "gender": "female",
                      "grade": 5,
                      "pets": [
                        {
                          "givenName": "Ukendt",
                          "race": "islænder",
                          "type": "hest"
                        }
                      ]
                    },
                    {
                      "firstName": "Daniel",
                      "gender": "male",
                      "grade": 3,
                      "pets": [
                        {
                          "givenName": "ukendt",
                          "race": "gadekryds",
                          "type": "pony"
                        }
                      ]
                    },
                    {
                      "firstName": "Erik",
                      "futuredream": "Astronaut",
                      "gender": "male",
                      "grade": 5
                    }
                  ],
                  "2": "20210107",
                  "3": "Skjernfamilien",
                  "4": "true",
                  "5": "Andersen-Skjern",
                  "6": [
                    {
                      "firstName": "Mads",
                      "gender": "male",
                      "skuespiller": "Jørgen Buckhøj"
                    },
                    {
                      "firstName": "Ingeborg",
                      "gender": "female",
                      "skuespiller": "Ghita Nørby"
                    }
                  ]
                }
              ],
              "schema": [
                {
                  "key": "0",
                  "name": "address",
                  "type": "StructType(StructField(city,StringType,true), StructField(county,StringType,true), StructField(state,StringType,true), StructField(streetname,StringType,true))"
                },
                {
                  "key": "1",
                  "name": "children",
                  "type": "ArrayType(StructType(StructField(firstName,StringType,true), StructField(futuredream,StringType,true), StructField(gender,StringType,true), StructField(grade,LongType,true), StructField(pets,ArrayType(StructType(StructField(givenName,StringType,true), StructField(race,StringType,true), StructField(type,StringType,true)),true),true)),true)"
                },
                {
                  "key": "2",
                  "name": "creationDate",
                  "type": "bigint"
                },
                {
                  "key": "3",
                  "name": "id",
                  "type": "string"
                },
                {
                  "key": "4",
                  "name": "isRegistered",
                  "type": "boolean"
                },
                {
                  "key": "5",
                  "name": "lastName",
                  "type": "string"
                },
                {
                  "key": "6",
                  "name": "parents",
                  "type": "ArrayType(StructType(StructField(actor,StringType,true), StructField(firstName,StringType,true), StructField(gender,StringType,true), StructField(skuespiller,StringType,true)),true)"
                }
              ],
              "truncated": false
            },
            "isSummary": false,
            "language": "scala"
          },
          "persist_state": {
            "view": {
              "type": "details",
              "tableOptions": {},
              "chartOptions": {
                "chartType": "bar",
                "aggregationType": "sum",
                "categoryFieldKeys": [
                  "3"
                ],
                "seriesFieldKeys": [
                  "2"
                ],
                "isStacked": false
              }
            }
          }
        }
      }
    },
    "enableDebugMode": false
  },
  "nbformat": 4,
  "nbformat_minor": 2,
  "cells": [
    {
      "cell_type": "code",
      "metadata": {
        "jupyter": {
          "source_hidden": false,
          "outputs_hidden": false
        },
        "nteract": {
          "transient": {
            "deleting": false
          }
        },
        "microsoft": {
          "language": "python"
        },
        "collapsed": false
      },
      "source": [
        "%%pyspark\r\n",
        "df = spark.read.load('abfss://raspdata@datalakesu20220620.dfs.core.windows.net/sensor=1984/year=2022/month=06/data2022_06_20_13_08_32.csv', format='csv'\r\n",
        "## If header exists uncomment line below\r\n",
        ", header=True\r\n",
        ")\r\n",
        "display(df.limit(10))"
      ],
      "attachments": null,
      "outputs": [
        {
          "name": null,
          "execution_count": null,
          "output_type": "display_data",
          "text": null,
          "data": {
            "application/vnd.livy.statement-meta+json": {
              "spark_pool": "minsparkpool",
              "session_id": 0,
              "statement_id": 6,
              "state": "finished",
              "livy_statement_state": "available",
              "queued_time": "2022-06-21T11:10:28.1231427Z",
              "session_start_time": null,
              "execution_start_time": "2022-06-21T11:10:28.2215209Z",
              "execution_finish_time": "2022-06-21T11:10:55.4705014Z"
            },
            "text/plain": "StatementMeta(minsparkpool, 0, 6, Finished, Available)"
          },
          "metadata": {}
        },
        {
          "name": null,
          "execution_count": null,
          "output_type": "display_data",
          "text": null,
          "data": {
            "application/vnd.synapse.widget-view+json": {
              "widget_id": "036d5989-fa49-46f9-9cb2-d51a45aa886d",
              "widget_type": "Synapse.DataFrame"
            },
            "text/plain": "SynapseWidget(Synapse.DataFrame, 036d5989-fa49-46f9-9cb2-d51a45aa886d)"
          },
          "metadata": {}
        }
      ],
      "execution_count": 2
    },
    {
      "cell_type": "code",
      "metadata": {
        "jupyter": {
          "source_hidden": false,
          "outputs_hidden": false
        },
        "nteract": {
          "transient": {
            "deleting": false
          }
        },
        "microsoft": {
          "language": "python"
        },
        "collapsed": false
      },
      "source": [
        "%%pyspark\r\n",
        "df = spark.read.load('abfss://matador@datalakesu20220620.dfs.core.windows.net/*.json', format='json',multiline=True)\r\n",
        "display(df.limit(10))"
      ],
      "attachments": null,
      "outputs": [
        {
          "name": null,
          "execution_count": null,
          "output_type": "display_data",
          "text": null,
          "data": {
            "application/vnd.livy.statement-meta+json": {
              "spark_pool": "minsparkpool",
              "session_id": 1,
              "statement_id": 2,
              "state": "finished",
              "livy_statement_state": "available",
              "queued_time": "2022-06-21T11:30:42.4699608Z",
              "session_start_time": null,
              "execution_start_time": "2022-06-21T11:30:42.5972669Z",
              "execution_finish_time": "2022-06-21T11:31:05.6741183Z"
            },
            "text/plain": "StatementMeta(minsparkpool, 1, 2, Finished, Available)"
          },
          "metadata": {}
        },
        {
          "name": null,
          "execution_count": null,
          "output_type": "display_data",
          "text": null,
          "data": {
            "application/vnd.synapse.widget-view+json": {
              "widget_id": "fc27f15d-4360-4847-b72d-bbdae428160f",
              "widget_type": "Synapse.DataFrame"
            },
            "text/plain": "SynapseWidget(Synapse.DataFrame, fc27f15d-4360-4847-b72d-bbdae428160f)"
          },
          "metadata": {}
        }
      ],
      "execution_count": 2
    },
    {
      "cell_type": "code",
      "metadata": {
        "jupyter": {
          "source_hidden": false,
          "outputs_hidden": false
        },
        "nteract": {
          "transient": {
            "deleting": false
          }
        }
      },
      "source": [
        "from pyspark.sql.functions import explode\r\n",
        "childrenDF=df.select('lastName',explode('children').alias('childrenflat'))\r\n",
        "childrenDF.show()"
      ],
      "attachments": null,
      "outputs": [
        {
          "name": null,
          "execution_count": null,
          "output_type": "display_data",
          "text": null,
          "data": {
            "application/vnd.livy.statement-meta+json": {
              "spark_pool": "minsparkpool",
              "session_id": 1,
              "statement_id": 3,
              "state": "finished",
              "livy_statement_state": "available",
              "queued_time": "2022-06-21T11:32:04.5651764Z",
              "session_start_time": null,
              "execution_start_time": "2022-06-21T11:32:04.6835221Z",
              "execution_finish_time": "2022-06-21T11:32:08.6281763Z"
            },
            "text/plain": "StatementMeta(minsparkpool, 1, 3, Finished, Available)"
          },
          "metadata": {}
        },
        {
          "name": "stdout",
          "execution_count": null,
          "output_type": "stream",
          "text": "+---------------+--------------------+\n|       lastName|        childrenflat|\n+---------------+--------------------+\n|Andersen-Skjern|{Ellen, null, fem...|\n|Andersen-Skjern|{Daniel, null, ma...|\n|Andersen-Skjern|{Erik, Astronaut,...|\n|         Varnæs|{Ulrik, null, mal...|\n|         Varnæs|{Regitze, null, f...|\n+---------------+--------------------+\n\n",
          "data": null,
          "metadata": null
        }
      ],
      "execution_count": 3
    },
    {
      "cell_type": "code",
      "metadata": {
        "jupyter": {
          "source_hidden": false,
          "outputs_hidden": false
        },
        "nteract": {
          "transient": {
            "deleting": false
          }
        }
      },
      "source": [
        "newDF=childrenDF.select('lastName', 'childrenflat.firstName','childrenflat.gender','childrenflat.grade')\r\n",
        "newDF.show()\r\n",
        ""
      ],
      "attachments": null,
      "outputs": [
        {
          "name": null,
          "execution_count": null,
          "output_type": "display_data",
          "text": null,
          "data": {
            "application/vnd.livy.statement-meta+json": {
              "spark_pool": "minsparkpool",
              "session_id": 1,
              "statement_id": 4,
              "state": "finished",
              "livy_statement_state": "available",
              "queued_time": "2022-06-21T11:32:59.8415658Z",
              "session_start_time": null,
              "execution_start_time": "2022-06-21T11:33:00.0896761Z",
              "execution_finish_time": "2022-06-21T11:33:02.9317172Z"
            },
            "text/plain": "StatementMeta(minsparkpool, 1, 4, Finished, Available)"
          },
          "metadata": {}
        },
        {
          "name": "stdout",
          "execution_count": null,
          "output_type": "stream",
          "text": "+---------------+---------+------+-----+\n|       lastName|firstName|gender|grade|\n+---------------+---------+------+-----+\n|Andersen-Skjern|    Ellen|female|    5|\n|Andersen-Skjern|   Daniel|  male|    3|\n|Andersen-Skjern|     Erik|  male|    5|\n|         Varnæs|    Ulrik|  male|    5|\n|         Varnæs|  Regitze|female|    3|\n+---------------+---------+------+-----+\n\n",
          "data": null,
          "metadata": null
        }
      ],
      "execution_count": 4
    },
    {
      "cell_type": "code",
      "metadata": {
        "jupyter": {
          "source_hidden": false,
          "outputs_hidden": false
        },
        "nteract": {
          "transient": {
            "deleting": false
          }
        },
        "microsoft": {
          "language": "sparksql"
        },
        "collapsed": false
      },
      "source": [
        "%%sql\r\n",
        "CREATE DATABASE sparkDB"
      ],
      "attachments": null,
      "outputs": [
        {
          "name": null,
          "execution_count": null,
          "output_type": "display_data",
          "text": null,
          "data": {
            "application/vnd.livy.statement-meta+json": {
              "spark_pool": "minsparkpool",
              "session_id": 1,
              "statement_id": 5,
              "state": "finished",
              "livy_statement_state": "available",
              "queued_time": "2022-06-21T11:33:36.3041208Z",
              "session_start_time": null,
              "execution_start_time": "2022-06-21T11:33:36.4218877Z",
              "execution_finish_time": "2022-06-21T11:34:03.593654Z"
            },
            "text/plain": "StatementMeta(minsparkpool, 1, 5, Finished, Available)"
          },
          "metadata": {}
        },
        {
          "name": null,
          "execution_count": 5,
          "output_type": "execute_result",
          "text": null,
          "data": {
            "application/vnd.synapse.sparksql-result+json": {
              "schema": {
                "type": "struct",
                "fields": []
              },
              "data": []
            },
            "text/plain": "<Spark SQL result set with 0 rows and 0 fields>"
          },
          "metadata": {}
        }
      ],
      "execution_count": 5
    },
    {
      "cell_type": "code",
      "metadata": {
        "jupyter": {
          "source_hidden": false,
          "outputs_hidden": false
        },
        "nteract": {
          "transient": {
            "deleting": false
          }
        }
      },
      "source": [
        "newDF.write.format(\"parquet\").saveAsTable('sparkDB.matadorChildren')"
      ],
      "attachments": null,
      "outputs": [
        {
          "name": null,
          "execution_count": null,
          "output_type": "display_data",
          "text": null,
          "data": {
            "application/vnd.livy.statement-meta+json": {
              "spark_pool": "minsparkpool",
              "session_id": 1,
              "statement_id": 6,
              "state": "finished",
              "livy_statement_state": "available",
              "queued_time": "2022-06-21T11:34:51.9612501Z",
              "session_start_time": null,
              "execution_start_time": "2022-06-21T11:34:52.0716709Z",
              "execution_finish_time": "2022-06-21T11:35:06.8009607Z"
            },
            "text/plain": "StatementMeta(minsparkpool, 1, 6, Finished, Available)"
          },
          "metadata": {}
        }
      ],
      "execution_count": 6
    },
    {
      "cell_type": "code",
      "metadata": {
        "jupyter": {
          "source_hidden": false,
          "outputs_hidden": false
        },
        "nteract": {
          "transient": {
            "deleting": false
          }
        },
        "microsoft": {
          "language": "sparksql"
        },
        "collapsed": false
      },
      "source": [
        "%%sql\r\n",
        "SELECT * FROM sparkDB.matadorChildren"
      ],
      "attachments": null,
      "outputs": [
        {
          "name": null,
          "execution_count": null,
          "output_type": "display_data",
          "text": null,
          "data": {
            "application/vnd.livy.statement-meta+json": {
              "spark_pool": "minsparkpool",
              "session_id": 1,
              "statement_id": 8,
              "state": "finished",
              "livy_statement_state": "available",
              "queued_time": "2022-06-21T11:37:22.1744593Z",
              "session_start_time": null,
              "execution_start_time": "2022-06-21T11:37:22.2855447Z",
              "execution_finish_time": "2022-06-21T11:37:30.8826969Z"
            },
            "text/plain": "StatementMeta(minsparkpool, 1, 8, Finished, Available)"
          },
          "metadata": {}
        },
        {
          "name": null,
          "execution_count": 8,
          "output_type": "execute_result",
          "text": null,
          "data": {
            "application/vnd.synapse.sparksql-result+json": {
              "schema": {
                "type": "struct",
                "fields": [
                  {
                    "name": "lastName",
                    "type": "string",
                    "nullable": true,
                    "metadata": {}
                  },
                  {
                    "name": "firstName",
                    "type": "string",
                    "nullable": true,
                    "metadata": {}
                  },
                  {
                    "name": "gender",
                    "type": "string",
                    "nullable": true,
                    "metadata": {}
                  },
                  {
                    "name": "grade",
                    "type": "long",
                    "nullable": true,
                    "metadata": {}
                  }
                ]
              },
              "data": [
                [
                  "Andersen-Skjern",
                  "Ellen",
                  "female",
                  "5"
                ],
                [
                  "Andersen-Skjern",
                  "Daniel",
                  "male",
                  "3"
                ],
                [
                  "Andersen-Skjern",
                  "Erik",
                  "male",
                  "5"
                ],
                [
                  "Varnæs",
                  "Ulrik",
                  "male",
                  "5"
                ],
                [
                  "Varnæs",
                  "Regitze",
                  "female",
                  "3"
                ]
              ]
            },
            "text/plain": "<Spark SQL result set with 5 rows and 4 fields>"
          },
          "metadata": {}
        }
      ],
      "execution_count": 8
    },
    {
      "cell_type": "code",
      "metadata": {
        "jupyter": {
          "source_hidden": false,
          "outputs_hidden": false
        },
        "nteract": {
          "transient": {
            "deleting": false
          }
        },
        "microsoft": {
          "language": "scala"
        }
      },
      "source": [
        "%%spark\r\n",
        "// VI ER I SCALA - den \r\n",
        "// Vi indlæser via Scala\r\n",
        "val dfScala = spark.sql(\"SELECT * FROM sparkdb.matadorchildren\")\r\n",
        "dfScala.show()\r\n",
        ""
      ],
      "attachments": null,
      "outputs": [
        {
          "name": null,
          "execution_count": null,
          "output_type": "display_data",
          "text": null,
          "data": {
            "application/vnd.livy.statement-meta+json": {
              "spark_pool": "minsparkpool",
              "session_id": 1,
              "statement_id": 10,
              "state": "finished",
              "livy_statement_state": "available",
              "queued_time": "2022-06-21T11:49:31.5420156Z",
              "session_start_time": null,
              "execution_start_time": "2022-06-21T11:49:33.7580379Z",
              "execution_finish_time": "2022-06-21T11:49:39.0738888Z"
            },
            "text/plain": "StatementMeta(minsparkpool, 1, 10, Finished, Available)"
          },
          "metadata": {}
        },
        {
          "name": "stdout",
          "execution_count": null,
          "output_type": "stream",
          "text": "+---------------+---------+------+-----+\n|       lastName|firstName|gender|grade|\n+---------------+---------+------+-----+\n|Andersen-Skjern|    Ellen|female|    5|\n|Andersen-Skjern|   Daniel|  male|    3|\n|Andersen-Skjern|     Erik|  male|    5|\n|         Varnæs|    Ulrik|  male|    5|\n|         Varnæs|  Regitze|female|    3|\n+---------------+---------+------+-----+\n\ndfScala: org.apache.spark.sql.DataFrame = [lastName: string, firstName: string ... 2 more fields]\n",
          "data": null,
          "metadata": null
        }
      ],
      "execution_count": 9
    },
    {
      "cell_type": "code",
      "metadata": {
        "jupyter": {
          "source_hidden": false,
          "outputs_hidden": false
        },
        "nteract": {
          "transient": {
            "deleting": false
          }
        },
        "microsoft": {
          "language": "scala"
        }
      },
      "source": [
        "%%spark\r\n",
        "// Write the dataframe into your sql pool\r\n",
        "import org.apache.spark.sql.SqlAnalyticsConnector._\r\n",
        "import com.microsoft.spark.sqlanalytics.utils.Constants\r\n",
        "\r\n",
        "val sql_pool_name = \"SQLPool01\" \r\n",
        "\r\n",
        "dfScala.write.sqlanalytics(s\"$sql_pool_name.dbo.MatadorChildren\", Constants.INTERNAL)\r\n",
        ""
      ],
      "attachments": null,
      "outputs": [
        {
          "name": null,
          "execution_count": null,
          "output_type": "display_data",
          "text": null,
          "data": {
            "application/vnd.livy.statement-meta+json": {
              "spark_pool": "minsparkpool",
              "session_id": 1,
              "statement_id": 11,
              "state": "finished",
              "livy_statement_state": "available",
              "queued_time": "2022-06-21T11:53:01.7939972Z",
              "session_start_time": null,
              "execution_start_time": "2022-06-21T11:53:02.0766051Z",
              "execution_finish_time": "2022-06-21T11:53:40.8433487Z"
            },
            "text/plain": "StatementMeta(minsparkpool, 1, 11, Finished, Available)"
          },
          "metadata": {}
        },
        {
          "name": "stdout",
          "execution_count": null,
          "output_type": "stream",
          "text": "import org.apache.spark.sql.SqlAnalyticsConnector._\nimport com.microsoft.spark.sqlanalytics.utils.Constants\nsql_pool_name: String = SQLPool01\nwarning: there was one deprecation warning; for details, enable `:setting -deprecation' or `:replay -deprecation'\n",
          "data": null,
          "metadata": null
        }
      ],
      "execution_count": 10
    },
    {
      "cell_type": "code",
      "metadata": {
        "jupyter": {
          "source_hidden": false,
          "outputs_hidden": false
        },
        "nteract": {
          "transient": {
            "deleting": false
          }
        },
        "microsoft": {
          "language": "scala"
        }
      },
      "source": [
        "%%spark\r\n",
        "// Read  the table we just created in the sql pool as a Spark dataframe\r\n",
        "val spark_read = spark.read.\r\n",
        "    sqlanalytics(s\"$sql_pool_name.dbo.MatadorChildren\")\r\n",
        "spark_read.show(5, truncate = false)"
      ],
      "attachments": null,
      "outputs": [
        {
          "name": null,
          "execution_count": null,
          "output_type": "display_data",
          "text": null,
          "data": {
            "application/vnd.livy.statement-meta+json": {
              "spark_pool": "minsparkpool",
              "session_id": 1,
              "statement_id": 12,
              "state": "finished",
              "livy_statement_state": "available",
              "queued_time": "2022-06-21T11:56:05.7342795Z",
              "session_start_time": null,
              "execution_start_time": "2022-06-21T11:56:05.9533227Z",
              "execution_finish_time": "2022-06-21T11:56:30.9405133Z"
            },
            "text/plain": "StatementMeta(minsparkpool, 1, 12, Finished, Available)"
          },
          "metadata": {}
        },
        {
          "name": "stdout",
          "execution_count": null,
          "output_type": "stream",
          "text": "+---------------+---------+------+-----+\n|lastName       |firstName|gender|grade|\n+---------------+---------+------+-----+\n|Andersen-Skjern|Ellen    |female|5    |\n|Andersen-Skjern|Daniel   |male  |3    |\n|Andersen-Skjern|Erik     |male  |5    |\n|Varnæs         |Ulrik    |male  |5    |\n|Varnæs         |Regitze  |female|3    |\n+---------------+---------+------+-----+\n\nwarning: there was one deprecation warning; for details, enable `:setting -deprecation' or `:replay -deprecation'\nspark_read: org.apache.spark.sql.DataFrame = [lastName: string, firstName: string ... 2 more fields]\n",
          "data": null,
          "metadata": null
        }
      ],
      "execution_count": 11
    }
  ],
  "entityState": null,
  "renameOperationDetails": null,
  "targetSparkConfiguration": null
}